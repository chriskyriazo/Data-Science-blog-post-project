{
 "cells": [
  {
   "cell_type": "markdown",
   "metadata": {},
   "source": [
    "# Data Acquisition & Preparation #\n"
   ]
  },
  {
   "cell_type": "markdown",
   "metadata": {},
   "source": [
    "First let's have a quick look at our data"
   ]
  },
  {
   "cell_type": "code",
   "execution_count": 31,
   "metadata": {},
   "outputs": [
    {
     "name": "stdout",
     "output_type": "stream",
     "text": [
      "        id                           listing_url       scrape_id last_scraped  \\\n",
      "0   241032   https://www.airbnb.com/rooms/241032  20160104002432   2016-01-04   \n",
      "1   953595   https://www.airbnb.com/rooms/953595  20160104002432   2016-01-04   \n",
      "2  3308979  https://www.airbnb.com/rooms/3308979  20160104002432   2016-01-04   \n",
      "3  7421966  https://www.airbnb.com/rooms/7421966  20160104002432   2016-01-04   \n",
      "4   278830   https://www.airbnb.com/rooms/278830  20160104002432   2016-01-04   \n",
      "\n",
      "                                  name  \\\n",
      "0         Stylish Queen Anne Apartment   \n",
      "1   Bright & Airy Queen Anne Apartment   \n",
      "2  New Modern House-Amazing water view   \n",
      "3                   Queen Anne Chateau   \n",
      "4       Charming craftsman 3 bdm house   \n",
      "\n",
      "                                             summary  \\\n",
      "0                                                NaN   \n",
      "1  Chemically sensitive? We've removed the irrita...   \n",
      "2  New modern house built in 2013.  Spectacular s...   \n",
      "3  A charming apartment that sits atop Queen Anne...   \n",
      "4  Cozy family craftman house in beautiful neighb...   \n",
      "\n",
      "                                               space  \\\n",
      "0  Make your self at home in this charming one-be...   \n",
      "1  Beautiful, hypoallergenic apartment in an extr...   \n",
      "2  Our house is modern, light and fresh with a wa...   \n",
      "3                                                NaN   \n",
      "4  Cozy family craftman house in beautiful neighb...   \n",
      "\n",
      "                                         description experiences_offered  \\\n",
      "0  Make your self at home in this charming one-be...                none   \n",
      "1  Chemically sensitive? We've removed the irrita...                none   \n",
      "2  New modern house built in 2013.  Spectacular s...                none   \n",
      "3  A charming apartment that sits atop Queen Anne...                none   \n",
      "4  Cozy family craftman house in beautiful neighb...                none   \n",
      "\n",
      "                               neighborhood_overview  ... review_scores_value  \\\n",
      "0                                                NaN  ...                10.0   \n",
      "1  Queen Anne is a wonderful, truly functional vi...  ...                10.0   \n",
      "2  Upper Queen Anne is a charming neighborhood fu...  ...                10.0   \n",
      "3                                                NaN  ...                 NaN   \n",
      "4  We are in the beautiful neighborhood of Queen ...  ...                 9.0   \n",
      "\n",
      "  requires_license license jurisdiction_names instant_bookable  \\\n",
      "0                f     NaN         WASHINGTON                f   \n",
      "1                f     NaN         WASHINGTON                f   \n",
      "2                f     NaN         WASHINGTON                f   \n",
      "3                f     NaN         WASHINGTON                f   \n",
      "4                f     NaN         WASHINGTON                f   \n",
      "\n",
      "  cancellation_policy  require_guest_profile_picture  \\\n",
      "0            moderate                              f   \n",
      "1              strict                              t   \n",
      "2              strict                              f   \n",
      "3            flexible                              f   \n",
      "4              strict                              f   \n",
      "\n",
      "  require_guest_phone_verification calculated_host_listings_count  \\\n",
      "0                                f                              2   \n",
      "1                                t                              6   \n",
      "2                                f                              2   \n",
      "3                                f                              1   \n",
      "4                                f                              1   \n",
      "\n",
      "  reviews_per_month  \n",
      "0              4.07  \n",
      "1              1.48  \n",
      "2              1.15  \n",
      "3               NaN  \n",
      "4              0.89  \n",
      "\n",
      "[5 rows x 92 columns]\n",
      "(3818, 92)\n"
     ]
    }
   ],
   "source": [
    "import pandas as pd \n",
    "import matplotlib.pyplot as plt\n",
    "list_df=pd.read_csv('C:/Users/chris/Desktop/Ex_Files_Learning_Python/listings.csv',sep=',')\n",
    "print(list_df.head())\n",
    "print(list_df.shape)"
   ]
  },
  {
   "cell_type": "markdown",
   "metadata": {},
   "source": [
    "Our goal is to see the connection between reviews and prices per neighbourhoods, so we are going to use only the columns that<br /> we want which are id, neighbourhood_group_cleansed, review_scores_rating and price.<br />\n",
    "Then we store that in a new dataframe."
   ]
  },
  {
   "cell_type": "code",
   "execution_count": 32,
   "metadata": {},
   "outputs": [],
   "source": [
    "# I only want to check the connection between reviews and prices per neighbourhood\n",
    "neighbor_columns=['id','neighbourhood_group_cleansed','review_scores_rating','price']\n",
    "neighbor_df=pd.DataFrame(data=list_df, index=list_df.index, columns=neighbor_columns)"
   ]
  },
  {
   "cell_type": "markdown",
   "metadata": {},
   "source": [
    "Let's see how our new dataframe looks like"
   ]
  },
  {
   "cell_type": "code",
   "execution_count": 33,
   "metadata": {},
   "outputs": [
    {
     "name": "stdout",
     "output_type": "stream",
     "text": [
      "        id neighbourhood_group_cleansed  review_scores_rating    price\n",
      "0   241032                   Queen Anne                  95.0   $85.00\n",
      "1   953595                   Queen Anne                  96.0  $150.00\n",
      "2  3308979                   Queen Anne                  97.0  $975.00\n",
      "3  7421966                   Queen Anne                   NaN  $100.00\n",
      "4   278830                   Queen Anne                  92.0  $450.00\n",
      "(3818, 4)\n",
      "id                                int64\n",
      "neighbourhood_group_cleansed     object\n",
      "review_scores_rating            float64\n",
      "price                            object\n",
      "dtype: object\n"
     ]
    }
   ],
   "source": [
    "# Quick look at the data\n",
    "print(neighbor_df.head())\n",
    "print(neighbor_df.shape)\n",
    "print(neighbor_df.dtypes)"
   ]
  },
  {
   "cell_type": "markdown",
   "metadata": {},
   "source": [
    "As we see, price is placed as an object and has some symbols like \n",
    "$, so we need to change that.<br />\n",
    "And while we do that let's check for duplicates and null values as well."
   ]
  },
  {
   "cell_type": "code",
   "execution_count": 34,
   "metadata": {},
   "outputs": [
    {
     "name": "stdout",
     "output_type": "stream",
     "text": [
      "0\n"
     ]
    }
   ],
   "source": [
    "# Check for duplicates\n",
    "print(neighbor_df.duplicated().sum())"
   ]
  },
  {
   "cell_type": "markdown",
   "metadata": {},
   "source": [
    "No duplicates"
   ]
  },
  {
   "cell_type": "code",
   "execution_count": 36,
   "metadata": {},
   "outputs": [
    {
     "name": "stdout",
     "output_type": "stream",
     "text": [
      "id                              0.00000\n",
      "neighbourhood_group_cleansed    0.00000\n",
      "review_scores_rating            0.16946\n",
      "price                           0.00000\n",
      "dtype: float64\n"
     ]
    }
   ],
   "source": [
    "# Check for nulls\n",
    "print(neighbor_df.isnull().mean())"
   ]
  },
  {
   "cell_type": "markdown",
   "metadata": {},
   "source": [
    "We see that review_scores_rating has a percentage of its values as null values, so let's drop those rows in order to continue our project."
   ]
  },
  {
   "cell_type": "code",
   "execution_count": 37,
   "metadata": {},
   "outputs": [
    {
     "name": "stdout",
     "output_type": "stream",
     "text": [
      "id                              0.0\n",
      "neighbourhood_group_cleansed    0.0\n",
      "review_scores_rating            0.0\n",
      "price                           0.0\n",
      "dtype: float64\n"
     ]
    }
   ],
   "source": [
    "# Drop all null in the review column\n",
    "neighbor_df=neighbor_df.dropna(subset=['review_scores_rating'],axis=0)\n",
    "print(neighbor_df.isnull().mean())"
   ]
  },
  {
   "cell_type": "markdown",
   "metadata": {},
   "source": [
    "Time to deal with the price factor, so let's delete the symbols and turn the type from object to float."
   ]
  },
  {
   "cell_type": "code",
   "execution_count": 38,
   "metadata": {},
   "outputs": [
    {
     "name": "stdout",
     "output_type": "stream",
     "text": [
      "id                                int64\n",
      "neighbourhood_group_cleansed     object\n",
      "review_scores_rating            float64\n",
      "price                           float64\n",
      "dtype: object\n"
     ]
    }
   ],
   "source": [
    "# Remove $ and , from prices and convert them to numeric type\n",
    "for i in '$,':\n",
    "    neighbor_df['price'] = neighbor_df['price'].str.replace(i,'')\n",
    "    \n",
    "neighbor_df['price']=pd.to_numeric(neighbor_df['price'])\n",
    "print(neighbor_df.dtypes)"
   ]
  },
  {
   "cell_type": "markdown",
   "metadata": {},
   "source": [
    "# Data Exploration #"
   ]
  },
  {
   "cell_type": "markdown",
   "metadata": {},
   "source": [
    "Our third question is if there is any connection between reviews and prices per neighbourhood.<br />\n",
    "So let's see the average review per neighbourhood and get a better view of the review distribution."
   ]
  },
  {
   "cell_type": "markdown",
   "metadata": {},
   "source": [
    "## Average review per neighbourhood ##"
   ]
  },
  {
   "cell_type": "markdown",
   "metadata": {},
   "source": [
    "We will use the groupby command in order to group by neighbourhood.<br />\n",
    "And we will sort the values in order to have a better view"
   ]
  },
  {
   "cell_type": "code",
   "execution_count": 39,
   "metadata": {},
   "outputs": [
    {
     "name": "stdout",
     "output_type": "stream",
     "text": [
      "neighbourhood_group_cleansed\n",
      "Central Area           96.009404\n",
      "West Seattle           95.864198\n",
      "Delridge               95.861538\n",
      "Ballard                95.533679\n",
      "Queen Anne             95.443089\n",
      "Seward Park            95.025641\n",
      "Rainier Valley         94.731343\n",
      "Northgate              94.692308\n",
      "Other neighborhoods    94.562500\n",
      "Lake City              94.375000\n",
      "Capitol Hill           94.184783\n",
      "Beacon Hill            94.019417\n",
      "Downtown               93.958333\n",
      "Magnolia               93.787234\n",
      "Interbay               93.777778\n",
      "Cascade                92.461538\n",
      "University District    88.437500\n",
      "Name: review_scores_rating, dtype: float64\n"
     ]
    }
   ],
   "source": [
    "# Check the average review per Neighbourhood\n",
    "neighbourhood_review=neighbor_df.groupby(['neighbourhood_group_cleansed'])['review_scores_rating'].mean()\n",
    "neighbourhood_review=neighbourhood_review.sort_values(ascending=False)\n",
    "print(neighbourhood_review)"
   ]
  },
  {
   "cell_type": "markdown",
   "metadata": {},
   "source": [
    "## Average price per neighbourhood ##"
   ]
  },
  {
   "cell_type": "markdown",
   "metadata": {},
   "source": [
    "Now let's do the same we dide for the average reviews but now for the average prices, and then look at our findings"
   ]
  },
  {
   "cell_type": "code",
   "execution_count": 40,
   "metadata": {},
   "outputs": [
    {
     "name": "stdout",
     "output_type": "stream",
     "text": [
      "<bound method Series.mean of neighbourhood_group_cleansed\n",
      "Magnolia               185.829787\n",
      "Queen Anne             161.402439\n",
      "Downtown               154.280702\n",
      "Cascade                145.338462\n",
      "Capitol Hill           129.139130\n",
      "West Seattle           128.993827\n",
      "Central Area           126.119122\n",
      "Ballard                123.647668\n",
      "Other neighborhoods    118.004573\n",
      "Seward Park            108.102564\n",
      "University District     97.312500\n",
      "Lake City               94.000000\n",
      "Rainier Valley          90.358209\n",
      "Northgate               90.153846\n",
      "Interbay                89.666667\n",
      "Beacon Hill             88.922330\n",
      "Delridge                81.369231\n",
      "Name: price, dtype: float64>\n"
     ]
    }
   ],
   "source": [
    "# Check the average price per neighbourhood\n",
    "neighbourhood_price=neighbor_df.groupby(['neighbourhood_group_cleansed'])['price'].mean()\n",
    "neighbourhood_price=neighbourhood_price.sort_values(ascending=False)\n",
    "print(neighbourhood_price.mean)"
   ]
  },
  {
   "cell_type": "markdown",
   "metadata": {},
   "source": [
    "# Visualization"
   ]
  },
  {
   "cell_type": "markdown",
   "metadata": {},
   "source": [
    "Now it's time to create some visualization plots in order to have a clear picture"
   ]
  },
  {
   "cell_type": "markdown",
   "metadata": {},
   "source": [
    "## Bar chart for average reviews per neighbourhood"
   ]
  },
  {
   "cell_type": "code",
   "execution_count": 41,
   "metadata": {},
   "outputs": [
    {
     "data": {
      "image/png": "[encoded data removed]",
      "text/plain": [
       "<Figure size 1008x504 with 1 Axes>"
      ]
     },
     "metadata": {
      "needs_background": "light"
     },
     "output_type": "display_data"
    }
   ],
   "source": [
    "# Bar chart to see the review variance\n",
    "plt.figure(figsize=(14,7))\n",
    "plt.bar(neighbourhood_review.index,neighbourhood_review)\n",
    "plt.xticks(rotation=90)\n",
    "plt.xlabel('Neighborhoods')\n",
    "plt.ylabel('review_scores_rating')\n",
    "plt.title('Review variance among neighborhoods')\n",
    "plt.ylim(85,100)\n",
    "plt.show()\n"
   ]
  },
  {
   "cell_type": "markdown",
   "metadata": {},
   "source": [
    "I changed the scale on the y axis in order to have a clearer picture as all of the average reviews are higher than 90 except one (University District)"
   ]
  },
  {
   "cell_type": "markdown",
   "metadata": {},
   "source": [
    "## Bar chart for average prices per neighbourhood"
   ]
  },
  {
   "cell_type": "code",
   "execution_count": 42,
   "metadata": {},
   "outputs": [
    {
     "data": {
      "image/png": "[encoded data removed]",
      "text/plain": [
       "<Figure size 1008x504 with 1 Axes>"
      ]
     },
     "metadata": {
      "needs_background": "light"
     },
     "output_type": "display_data"
    }
   ],
   "source": [
    "# Bar chart to see the price variance\n",
    "plt.figure(figsize=(14,7))\n",
    "plt.bar(neighbourhood_price.index,neighbourhood_price)\n",
    "plt.xticks(rotation=90)\n",
    "plt.xlabel('Neighborhoods')\n",
    "plt.ylabel('price')\n",
    "plt.title('Price variance among neighborhoods')\n",
    "plt.show()\n",
    "\n",
    "\n",
    "\n"
   ]
  },
  {
   "cell_type": "markdown",
   "metadata": {},
   "source": [
    "Here we can see a clearer distribution than this of the average reviews"
   ]
  },
  {
   "cell_type": "markdown",
   "metadata": {},
   "source": [
    "# Conclusion"
   ]
  },
  {
   "cell_type": "markdown",
   "metadata": {},
   "source": [
    "In order to compare average reviews and average prices i created 4 new lists in order to split the neighbourhoods in above and <br />below average review as well as below and over average prices.\n",
    "The 4 lists are:<br />\n",
    "1.neighbourhood_above_avgreview<br />\n",
    "2.neighbourhood_below_avgreview<br />\n",
    "3.neighbourhood_above_avgprice<br />\n",
    "4.neighbourhood_below_avgprice"
   ]
  },
  {
   "cell_type": "code",
   "execution_count": 43,
   "metadata": {},
   "outputs": [],
   "source": [
    "# Divide the neighbourhoods in 2 classe, above the average review and below the average review\n",
    "neighbourhood_above_avgreview=neighbourhood_review[neighbourhood_review>neighbourhood_review.mean()]\n",
    "neighbourhood_above_avgreview=neighbourhood_above_avgreview.index.tolist()\n",
    "\n",
    "neighbourhood_below_avgreview=neighbourhood_review[neighbourhood_review<=neighbourhood_review.mean()]\n",
    "neighbourhood_below_avgreview=neighbourhood_below_avgreview.index.tolist()"
   ]
  },
  {
   "cell_type": "code",
   "execution_count": 44,
   "metadata": {},
   "outputs": [],
   "source": [
    "# Divide the neighbourhoods in 2 classe, above the average price and below the average price\n",
    "neighbourhood_above_avgprice=neighbourhood_price[neighbourhood_price>neighbourhood_price.mean()]\n",
    "neighbourhood_above_avgprice=neighbourhood_above_avgprice.index.tolist()\n",
    "\n",
    "neighbourhood_below_avgprice=neighbourhood_price[neighbourhood_price<=neighbourhood_price.mean()]\n",
    "neighbourhood_below_avgprice=neighbourhood_below_avgprice.index.tolist()"
   ]
  },
  {
   "cell_type": "markdown",
   "metadata": {},
   "source": [
    "Let's see the different lists each neighbourhood exists in"
   ]
  },
  {
   "cell_type": "code",
   "execution_count": 45,
   "metadata": {},
   "outputs": [
    {
     "name": "stdout",
     "output_type": "stream",
     "text": [
      "['West Seattle', 'Ballard', 'Queen Anne', 'Central Area']\n",
      "['Other neighborhoods', 'Northgate', 'Rainier Valley', 'Seward Park', 'Lake City', 'Delridge']\n",
      "['Downtown', 'Capitol Hill', 'Cascade', 'Magnolia']\n",
      "['Interbay', 'Beacon Hill', 'University District']\n"
     ]
    }
   ],
   "source": [
    "#Neighbourhoods with high review and high prices\n",
    "print(list(set(neighbourhood_above_avgreview) & set(neighbourhood_above_avgprice) ))\n",
    "\n",
    "#Neighbourhoods with high review and low prices\n",
    "print(list(set(neighbourhood_above_avgreview) & set(neighbourhood_below_avgprice) ))\n",
    "\n",
    "#Neighbourhoods with low review and high prices\n",
    "print(list(set(neighbourhood_below_avgreview) & set(neighbourhood_above_avgprice) ))\n",
    "\n",
    "#Neighbourhoods with low review and low prices\n",
    "print(list(set(neighbourhood_below_avgreview) & set(neighbourhood_below_avgprice) ))"
   ]
  },
  {
   "cell_type": "markdown",
   "metadata": {},
   "source": [
    "## So as a result we see that average revies prices don't always go side by side##\n",
    "<br />\n",
    "example(Other neighborhoods, Northgate, Rainier Valley, Seward Park, Lake City, Delridge all have high reviews but are below average prices)\n"
   ]
  }
 ],
 "metadata": {
  "kernelspec": {
   "display_name": "Python 3",
   "language": "python",
   "name": "python3"
  },
  "language_info": {
   "codemirror_mode": {
    "name": "ipython",
    "version": 3
   },
   "file_extension": ".py",
   "mimetype": "text/x-python",
   "name": "python",
   "nbconvert_exporter": "python",
   "pygments_lexer": "ipython3",
   "version": "3.8.2"
  }
 },
 "nbformat": 4,
 "nbformat_minor": 4
}
