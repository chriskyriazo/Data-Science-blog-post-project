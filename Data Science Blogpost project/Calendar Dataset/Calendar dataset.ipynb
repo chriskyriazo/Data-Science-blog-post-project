{
 "cells": [
  {
   "cell_type": "markdown",
   "metadata": {},
   "source": [
    "# Data Acquisition & Preparation #"
   ]
  },
  {
   "cell_type": "markdown",
   "metadata": {},
   "source": [
    "In order to continue with our analysis we first need to see the condition of our data. <br />\n",
    "And then prepare the in order to use them correctly"
   ]
  },
  {
   "cell_type": "markdown",
   "metadata": {},
   "source": [
    "## Load packages ##"
   ]
  },
  {
   "cell_type": "code",
   "execution_count": 3,
   "metadata": {},
   "outputs": [],
   "source": [
    "import pandas as pd\n",
    "import matplotlib.pyplot as plt"
   ]
  },
  {
   "cell_type": "markdown",
   "metadata": {},
   "source": [
    "## Load Data ##"
   ]
  },
  {
   "cell_type": "markdown",
   "metadata": {},
   "source": [
    "We will only use the calendar.csv file because seasons are the thing we want to investigate"
   ]
  },
  {
   "cell_type": "code",
   "execution_count": 4,
   "metadata": {},
   "outputs": [],
   "source": [
    "df_cal=pd.read_csv('C:/Users/chris/Desktop/Ex_Files_Learning_Python/calendar.csv',sep=',')"
   ]
  },
  {
   "cell_type": "markdown",
   "metadata": {},
   "source": [
    "## View Data ##"
   ]
  },
  {
   "cell_type": "markdown",
   "metadata": {},
   "source": [
    "Quick look at the dataset in order to notice anything we need to change so that we continue further"
   ]
  },
  {
   "cell_type": "code",
   "execution_count": 5,
   "metadata": {},
   "outputs": [
    {
     "name": "stdout",
     "output_type": "stream",
     "text": [
      "   listing_id        date available   price\n",
      "0      241032  2016-01-04         t  $85.00\n",
      "1      241032  2016-01-05         t  $85.00\n",
      "2      241032  2016-01-06         f     NaN\n",
      "3      241032  2016-01-07         f     NaN\n",
      "4      241032  2016-01-08         f     NaN\n",
      "\n",
      "The shape of our data : (1393570, 4)\n",
      "\n",
      " listing_id     int64\n",
      "date          object\n",
      "available     object\n",
      "price         object\n",
      "dtype: object\n"
     ]
    }
   ],
   "source": [
    "# Quick look at the data\n",
    "print(df_cal.head())\n",
    "print('\\nThe shape of our data :',df_cal.shape)\n",
    "print('\\n',df_cal.dtypes)"
   ]
  },
  {
   "cell_type": "markdown",
   "metadata": {},
   "source": [
    "#### We see that date and price are labeled as an object so we need to change that as we move on."
   ]
  },
  {
   "cell_type": "markdown",
   "metadata": {},
   "source": [
    "## Check for duplicates"
   ]
  },
  {
   "cell_type": "code",
   "execution_count": 6,
   "metadata": {},
   "outputs": [
    {
     "name": "stdout",
     "output_type": "stream",
     "text": [
      "0\n"
     ]
    }
   ],
   "source": [
    "# Check for duplicates\n",
    "print(df_cal.duplicated().sum())"
   ]
  },
  {
   "cell_type": "markdown",
   "metadata": {},
   "source": [
    "As we see don't have any duplicate so we don't need to look into it any further"
   ]
  },
  {
   "cell_type": "markdown",
   "metadata": {},
   "source": [
    "## Change price format and clean the data"
   ]
  },
  {
   "cell_type": "code",
   "execution_count": 7,
   "metadata": {},
   "outputs": [
    {
     "name": "stdout",
     "output_type": "stream",
     "text": [
      "<bound method NDFrame.describe of 0          85.0\n",
      "1          85.0\n",
      "2           NaN\n",
      "3           NaN\n",
      "4           NaN\n",
      "           ... \n",
      "1393565     NaN\n",
      "1393566     NaN\n",
      "1393567     NaN\n",
      "1393568     NaN\n",
      "1393569     NaN\n",
      "Name: price, Length: 1393570, dtype: float64>\n"
     ]
    }
   ],
   "source": [
    "# Make the prices float type and remove any symbols we don't need\n",
    "for i in '$,':\n",
    "    df_cal['price'] = df_cal['price'].str.replace(i,'')\n",
    "    \n",
    "df_cal['price']=pd.to_numeric(df_cal['price'])\n",
    "print(df_cal['price'].describe)"
   ]
  },
  {
   "cell_type": "markdown",
   "metadata": {},
   "source": [
    "#### There are too many null values so we need to remove them in order to continue. "
   ]
  },
  {
   "cell_type": "code",
   "execution_count": 8,
   "metadata": {},
   "outputs": [
    {
     "name": "stdout",
     "output_type": "stream",
     "text": [
      "(934542, 4)\n"
     ]
    }
   ],
   "source": [
    "# Drop the null values\n",
    "df_cal=df_cal.dropna(subset=['price'],axis=0)\n",
    "print(df_cal.shape)"
   ]
  },
  {
   "cell_type": "markdown",
   "metadata": {},
   "source": [
    "#### As we see our dataset rows are less so we know that null valuew have been removed. <br />\n",
    "## View Data"
   ]
  },
  {
   "cell_type": "code",
   "execution_count": 9,
   "metadata": {},
   "outputs": [
    {
     "name": "stdout",
     "output_type": "stream",
     "text": [
      "\n",
      " listing_id    0.0\n",
      "date          0.0\n",
      "available     0.0\n",
      "price         0.0\n",
      "dtype: float64\n"
     ]
    }
   ],
   "source": [
    "# Check how many null values we have in each column\n",
    "print('\\n',df_cal.isnull().mean())"
   ]
  },
  {
   "cell_type": "markdown",
   "metadata": {},
   "source": [
    "## Change the date format "
   ]
  },
  {
   "cell_type": "markdown",
   "metadata": {},
   "source": [
    "I noticed that date format was presented as object so i used pandas to change it to its right format in order to be usable"
   ]
  },
  {
   "cell_type": "code",
   "execution_count": 10,
   "metadata": {},
   "outputs": [],
   "source": [
    "# Turn date from object to date format\n",
    "df_cal['date']= pd.to_datetime(df_cal['date'])"
   ]
  },
  {
   "cell_type": "markdown",
   "metadata": {},
   "source": [
    "# Data Exploration #"
   ]
  },
  {
   "cell_type": "markdown",
   "metadata": {},
   "source": [
    "## Create 3 new columns using the date.<br />\n",
    "We need to anayse the data by month so let's split the date into 3 new columns\n",
    "* 1 column containing the Year named Year. <br />\n",
    "* 1 column containing the Month called Month. <br />\n",
    "* 1 column containing the Day called Day"
   ]
  },
  {
   "cell_type": "code",
   "execution_count": 11,
   "metadata": {},
   "outputs": [
    {
     "name": "stdout",
     "output_type": "stream",
     "text": [
      "    listing_id       date available  price  Year  Month  Day\n",
      "0       241032 2016-01-04         t   85.0  2016      1    4\n",
      "1       241032 2016-01-05         t   85.0  2016      1    5\n",
      "9       241032 2016-01-13         t   85.0  2016      1   13\n",
      "10      241032 2016-01-14         t   85.0  2016      1   14\n",
      "14      241032 2016-01-18         t   85.0  2016      1   18\n"
     ]
    }
   ],
   "source": [
    "# Split date into new columns of Year, Month, Day\n",
    "df_cal['Year']=df_cal['date'].dt.year\n",
    "df_cal['Month']=df_cal['date'].dt.month\n",
    "df_cal['Day']=df_cal['date'].dt.day\n",
    "print(df_cal.head())"
   ]
  },
  {
   "cell_type": "markdown",
   "metadata": {},
   "source": [
    "### Now lets see how many months each year has in our data."
   ]
  },
  {
   "cell_type": "code",
   "execution_count": 12,
   "metadata": {},
   "outputs": [
    {
     "name": "stdout",
     "output_type": "stream",
     "text": [
      "Year\n",
      "2016    [1, 2, 3, 4, 5, 6, 7, 8, 9, 10, 11, 12]\n",
      "2017                                        [1]\n",
      "Name: Month, dtype: object\n"
     ]
    }
   ],
   "source": [
    "# Let's see how many years we have and how many months on each year\n",
    "print(df_cal.groupby(['Year'])['Month'].unique())"
   ]
  },
  {
   "cell_type": "markdown",
   "metadata": {},
   "source": [
    "#### Only January of 2017 is on the dataframe for this particular year, so we will continue without taking it into consideration as we want to see which month tends to get higher house pricing"
   ]
  },
  {
   "cell_type": "markdown",
   "metadata": {},
   "source": [
    "### New dataframe containing only the year 2016."
   ]
  },
  {
   "cell_type": "code",
   "execution_count": 13,
   "metadata": {},
   "outputs": [],
   "source": [
    "# We only have January of 2017 so we don't need that year for our research\n",
    "df_cal_2016=df_cal[df_cal['Year']==2016]"
   ]
  },
  {
   "cell_type": "markdown",
   "metadata": {},
   "source": [
    "## Price per Month\n",
    "We will use groupby in order to group by Month in our new dataframe df_cal_2016 and see what the average price per month is for the year 2016 using the mean() command."
   ]
  },
  {
   "cell_type": "code",
   "execution_count": 14,
   "metadata": {},
   "outputs": [
    {
     "name": "stdout",
     "output_type": "stream",
     "text": [
      "Month\n",
      "7     152.094150\n",
      "8     150.656594\n",
      "6     147.473137\n",
      "9     143.255949\n",
      "5     139.538183\n",
      "12    137.251835\n",
      "10    137.031939\n",
      "11    135.688738\n",
      "4     135.097005\n",
      "3     128.644488\n",
      "2     124.293927\n",
      "1     121.568409\n",
      "Name: price, dtype: float64\n"
     ]
    }
   ],
   "source": [
    "# Average price per month\n",
    "rpd=df_cal_2016.groupby(['Month'])['price'].mean()\n",
    "rpd=rpd.sort_values(ascending=False)\n",
    "print(rpd)"
   ]
  },
  {
   "cell_type": "markdown",
   "metadata": {},
   "source": [
    "#### Here we see the average price per month of 2016 and we can already tell that July has the highest pricing"
   ]
  },
  {
   "cell_type": "markdown",
   "metadata": {},
   "source": [
    "# Visualization #"
   ]
  },
  {
   "cell_type": "markdown",
   "metadata": {},
   "source": [
    "We will create a bar chart using the x axis as the months we have and the y axis as the average price. <br />\n",
    "The reuslt will be a visual picture of the different average prices per month for 2016"
   ]
  },
  {
   "cell_type": "code",
   "execution_count": 22,
   "metadata": {},
   "outputs": [
    {
     "data": {
      "image/png": "[encoded data removed]",
      "text/plain": [
       "<Figure size 1008x504 with 1 Axes>"
      ]
     },
     "metadata": {
      "needs_background": "light"
     },
     "output_type": "display_data"
    }
   ],
   "source": [
    "# Bar chart for visualization\n",
    "\n",
    "\"\"\"Creating a bar chart with : x = Months\n",
    "                               y =Avearge prices\n",
    "     in order to have a visualization of the code we used\"\"\"    \n",
    "    \n",
    "    \n",
    "plt.figure(figsize=(14,7))\n",
    "plt.bar(rpd.index,rpd)\n",
    "plt.xticks(rotation=90)\n",
    "plt.xlabel('Months')\n",
    "plt.ylabel('Price')\n",
    "plt.title('Average Price per Month')\n",
    "plt.show()"
   ]
  },
  {
   "cell_type": "markdown",
   "metadata": {},
   "source": [
    "# Question"
   ]
  },
  {
   "cell_type": "markdown",
   "metadata": {},
   "source": [
    "What months does house pricing go up?"
   ]
  },
  {
   "cell_type": "markdown",
   "metadata": {},
   "source": [
    "# Conclusion #"
   ]
  },
  {
   "cell_type": "markdown",
   "metadata": {},
   "source": [
    "As we see during the months of summer we see the biggest spike in the housing prices and as expected the second biggest spike is in the winter season.\n",
    "So the answer to the question:\n",
    " \n",
    " In which months do house pricings see increase?\n",
    "\n",
    "\n",
    "is :\n",
    "\n",
    "In summer months and especially in July"
   ]
  },
  {
   "cell_type": "code",
   "execution_count": null,
   "metadata": {},
   "outputs": [],
   "source": []
  }
 ],
 "metadata": {
  "kernelspec": {
   "display_name": "Python 3",
   "language": "python",
   "name": "python3"
  },
  "language_info": {
   "codemirror_mode": {
    "name": "ipython",
    "version": 3
   },
   "file_extension": ".py",
   "mimetype": "text/x-python",
   "name": "python",
   "nbconvert_exporter": "python",
   "pygments_lexer": "ipython3",
   "version": "3.8.2"
  }
 },
 "nbformat": 4,
 "nbformat_minor": 4
}
